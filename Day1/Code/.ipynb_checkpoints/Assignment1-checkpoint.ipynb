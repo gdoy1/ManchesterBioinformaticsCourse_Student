{
 "cells": [
  {
   "cell_type": "markdown",
   "metadata": {},
   "source": [
    "# Basic Python: Assignment 1\n",
    "\n",
    "In this notebook, you have to fill in the missing code (or fix buggy code) to do some basic programming tasks. The idea is you should be able to finish these pretty quickly, and get an idea for how python and the notebook system works. When we do more complex stuff (i.e. tomorrow), we will move to using scripts rather than notebooks.\n",
    "\n",
    "## Task 1\n",
    "In this directory is a file called \"Files.txt\". It contains a list of file names, each of which is contained in the directory \"files\". A few files are missing because a cat walked over the keyboard during the file copy procedue. Which files are missing?\n",
    "\n",
    "## Task 2\n",
    "Load the data from the files that are available so that the value inside each file can be quickly found from an integer file ID key. The values are floating point numbers. \n",
    "\n",
    "## Task 3 \n",
    "Produce a histogram of the data. Play around with the number of bins until it looks nice. Try some of the other options like normalisation. Label your axes!\n"
   ]
  },
  {
   "cell_type": "code",
   "execution_count": 2,
   "metadata": {},
   "outputs": [],
   "source": [
    "%matplotlib inline \n",
    "# Make sure this cell is run, and don't change it!"
   ]
  },
  {
   "cell_type": "markdown",
   "metadata": {},
   "source": [
    "# Task 1"
   ]
  },
  {
   "cell_type": "code",
   "execution_count": 34,
   "metadata": {},
   "outputs": [
    {
     "name": "stdout",
     "output_type": "stream",
     "text": [
      "C:\\Users\\rosie\\code\\ManchesterBioinformaticsCourse_Student\\Day1\\Code\\files\n",
      "missing:\n",
      "3\n",
      "<class 'list'>\n",
      "actual: \n",
      "97\n",
      "<class 'list'>\n",
      "expected:\n",
      "100\n",
      "<class 'list'>\n",
      "Missing files:\n",
      "['589155271.txt', '219242066.txt', '728653832.txt']\n"
     ]
    }
   ],
   "source": [
    "# You need to get a list of the files in the directory \"files\"\n",
    "# You then need to compare it against a list generated from the \"Files.txt\" file.\n",
    "# Every pair of students has a unique set of files!\n",
    "# You will need a library to list the files in the directory\n",
    "\n",
    "\n",
    "# Here, import a library to list the files:\n",
    "import os\n",
    "\n",
    "# Open the file containing the list of patients and read it into a list, one line at a time\n",
    "myDirectory = os.path.abspath(os.getcwd())+ \"\\\\files\"\n",
    "\n",
    "expectedFiles = [] # Start with an empty list\n",
    "\n",
    "# This is a handy way to make sure the file is closed when you're done with it.\n",
    "# For reference, the open command takes two arguments, a file name and an 'open mode' which may be 'r', 'w' or 'a' \n",
    "# Thise mean 'r'ead, 'w'rite and 'a'ppend\n",
    "with open(\"Files.txt\", 'r') as fileList:\n",
    "    # You fill in this bit\n",
    "    for file in fileList: \n",
    "        expectedFiles.append(file.strip('\\n'))\n",
    "    \n",
    "# Now you have a list of files read from the file, you just need to work out which ones are missing.\n",
    "# First of all, get a list of files in the directory (using a library function)\n",
    "print(myDirectory)\n",
    "\n",
    "(_, _, actualFiles) = next(os.walk(myDirectory))\n",
    "\n",
    "missingFiles = []\n",
    "\n",
    "# Now you have two lists, you can compare them to find which files are not in the directory\n",
    "for file in expectedFiles: \n",
    "    if file not in actualFiles: \n",
    "        missingFiles.append(file)\n",
    "\n",
    "print(\"missing:\")\n",
    "print(len(missingFiles))\n",
    "print(type(missingFiles))\n",
    "print(\"actual: \")\n",
    "print(len(actualFiles))\n",
    "print(type(actualFiles))\n",
    "print(\"expected:\")\n",
    "print(len(expectedFiles))\n",
    "print(type(expectedFiles))\n",
    "print(\"Missing files:\")\n",
    "print(missingFiles)\n"
   ]
  },
  {
   "cell_type": "markdown",
   "metadata": {},
   "source": [
    "# Task 2\n"
   ]
  },
  {
   "cell_type": "code",
   "execution_count": 55,
   "metadata": {},
   "outputs": [
    {
     "name": "stdout",
     "output_type": "stream",
     "text": [
      "[48.1356297994, 32.1855213236, 25.1997139462, 74.6536161543, 50.8702866096, 23.8026492126, 70.7696087485, 61.4667366216, 63.2621973942, 70.3689465343, 34.4360697956, 28.5916466129, 60.7232327439, 32.5461706745, 64.7554079342, 63.9408073916, 48.8831814885, 54.7090177046, 54.4988554278, 61.8842504389, 38.4930257003, 49.6873006267, 49.4844723678, 68.8054281772, 64.0472558734, 63.1562885648, 50.9716979529, 75.0581481774, 29.6563890857, 71.918068156, 55.9465788867, 25.5016312127, 31.6471655322, 69.688735276, 55.2943248759, 68.9554978384, 36.7643406283, 39.5469726747, 27.1028788862, 40.4148121544, 59.0645196839, 61.5779542159, 42.902862118, 69.5866459986, 68.5558760719, 69.2750553312, 71.9358524019, 57.0014704401, 71.13091849, 59.7532683383, 66.3235616542, 46.6279591004, 41.8264330558, 28.3379793257, 73.1686043663, 48.6355750405, 28.0079651812, 34.3839793764, 37.7237695149, 59.1592916319, 30.6838960801, 24.3318115788, 27.6702767678, 50.0867309065, 60.7624862253, 31.1076391006, 40.8664436282, 58.803162795, 69.7460405288, 16.9761915852, 25.326173277, 24.3493469211, 69.8908796113, 62.8071294277, 50.8181878205, 50.1302110157, 28.31017361, 52.9876007592, 21.5879323504, 19.5608819928, 56.0037045623, 22.1781191367, 43.3104195825, 55.5063887646, 53.2486252813, 61.134396506, 45.2015294307, 30.954886697, 47.8901156459, 68.1203332791, 71.3512525749, 22.8422538233, 30.6226712508, 62.6859414171, 63.3999388608, 62.7396583078, 67.7604667945]\n"
     ]
    }
   ],
   "source": [
    "# Now you have your file list, you can loop over it to load them\n",
    "# Think about which data structure is appropriate to meet the goal of the task\n",
    "# Bonus: this can be done in a single line!\n",
    "\n",
    "# Hint: Remember that the file names are just strings, and strings have some methods you may be able to use...\n",
    "# Hint: Look at the code used to read files in the previous task - you could repurpose that...\n",
    "# Hint: Remember that you can change a string into an integer by calling int() on it (provided it is all numbers).\n",
    "\n",
    "import numpy as np\n",
    "# you will need a for loop to go over the actualFiles list\n",
    "#My_data = np.arange()\n",
    "Mydata = []\n",
    "for aFile in actualFiles: \n",
    "    with open(\"files\\\\\" + aFile, 'r') as thisFile:\n",
    "        for data in thisFile:\n",
    "            Mydata.append(float(data))\n",
    "    # Your code here!\n",
    "\n",
    "print(Mydata)\n",
    "\n",
    "\n"
   ]
  },
  {
   "cell_type": "markdown",
   "metadata": {},
   "source": [
    "# Task 3"
   ]
  },
  {
   "cell_type": "code",
   "execution_count": null,
   "metadata": {
    "collapsed": true
   },
   "outputs": [],
   "source": [
    "# You will need to import a library to produce the histogram.\n",
    "# Check the documentation to see which functions you need, and what arguments they take.\n",
    "\n",
    "# Import a library\n",
    "import libraryNameHere as plt # Should be obvious which one I mean!\n",
    "\n",
    "# Now create the histogram \n",
    "\n",
    "# There are loads of things to play with in plotting - have a go with some of them here (e.g. normalisation):\n",
    "\n",
    "# Label the axes!\n",
    "\n",
    "\n"
   ]
  }
 ],
 "metadata": {
  "kernelspec": {
   "display_name": "Python 3",
   "language": "python",
   "name": "python3"
  },
  "language_info": {
   "codemirror_mode": {
    "name": "ipython",
    "version": 3
   },
   "file_extension": ".py",
   "mimetype": "text/x-python",
   "name": "python",
   "nbconvert_exporter": "python",
   "pygments_lexer": "ipython3",
   "version": "3.9.1"
  }
 },
 "nbformat": 4,
 "nbformat_minor": 1
}
