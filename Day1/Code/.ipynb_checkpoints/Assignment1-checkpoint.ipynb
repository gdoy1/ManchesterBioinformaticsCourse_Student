{
 "cells": [
  {
   "cell_type": "markdown",
   "metadata": {},
   "source": [
    "# Basic Python: Assignment 1\n",
    "\n",
    "In this notebook, you have to fill in the missing code (or fix buggy code) to do some basic programming tasks. The idea is you should be able to finish these pretty quickly, and get an idea for how python and the notebook system works. When we do more complex stuff (i.e. tomorrow), we will move to using scripts rather than notebooks.\n",
    "\n",
    "## Task 1\n",
    "In this directory is a file called \"Files.txt\". It contains a list of file names, each of which is contained in the directory \"files\". A few files are missing because a cat walked over the keyboard during the file copy procedue. Which files are missing?\n",
    "\n",
    "## Task 2\n",
    "Load the data from the files that are available so that the value inside each file can be quickly found from an integer file ID key. The values are floating point numbers. \n",
    "\n",
    "## Task 3 \n",
    "Produce a histogram of the data. Play around with the number of bins until it looks nice. Try some of the other options like normalisation. Label your axes!\n"
   ]
  },
  {
   "cell_type": "code",
   "execution_count": 1,
   "metadata": {},
   "outputs": [],
   "source": [
    "%matplotlib inline"
   ]
  },
  {
   "cell_type": "markdown",
   "metadata": {},
   "source": [
    "# Task 1"
   ]
  },
  {
   "cell_type": "code",
   "execution_count": 2,
   "metadata": {},
   "outputs": [
    {
     "name": "stdout",
     "output_type": "stream",
     "text": [
      "['589155271.txt', '219242066.txt', '728653832.txt']\n"
     ]
    }
   ],
   "source": [
    "#ATTRIBUTION - this is all copied from Jay-Tom branch as I couldn't do it!!\n",
    "# You need to get a list of the files in the directory \"files\"\n",
    "# You then need to compare it against a list generated from the \"Files.txt\" file.\n",
    "# Every pair of students has a unique set of files!\n",
    "# You will need a library to list the files in the directory\n",
    "\n",
    "import os\n",
    "\n",
    "# Open 'Files.txt' (which contains a list of all patients) and read it into a list line-by-line\n",
    "expectedFiles = []\n",
    "with open(\"Files.txt\", 'r') as fileList:\n",
    "    contents = fileList.read()\n",
    "    contents = contents.split(\"\\n\")\n",
    "for c in contents:\n",
    "    expectedFiles.append(c)\n",
    "    \n",
    "\n",
    "\n",
    "\n",
    "import sys\n",
    "\n",
    "\n",
    "actualFiles = os.listdir('files')\n",
    "missing_files=[]\n",
    "for f in expectedFiles:\n",
    "    if f not in actualFiles and f !='':\n",
    "        missing_files.append(f)\n",
    "print(missing_files)"
   ]
  },
  {
   "cell_type": "markdown",
   "metadata": {},
   "source": [
    "# Task 2\n"
   ]
  },
  {
   "cell_type": "code",
   "execution_count": 21,
   "metadata": {},
   "outputs": [
    {
     "name": "stdout",
     "output_type": "stream",
     "text": [
      "97 Files in Dictionary\n",
      "{106557552: '48.1356297994\\n', 115643189: '32.1855213236\\n', 121144971: '25.1997139462\\n', 126874271: '74.6536161543\\n', 145923007: '50.8702866096\\n', 152834409: '23.8026492126\\n', 163442287: '70.7696087485\\n', 170454111: '61.4667366216\\n', 191959467: '63.2621973942\\n', 201239834: '70.3689465343\\n', 20185028: '34.4360697956\\n', 205450972: '28.5916466129\\n', 210724438: '60.7232327439\\n', 232134032: '32.5461706745\\n', 237264890: '64.7554079342\\n', 241950477: '63.9408073916\\n', 251602070: '48.8831814885\\n', 258397538: '54.7090177046\\n', 261088550: '54.4988554278\\n', 265700820: '61.8842504389\\n', 265961468: '38.4930257003\\n', 269627528: '49.6873006267\\n', 278329940: '49.4844723678\\n', 30865336: '68.8054281772\\n', 316168757: '64.0472558734\\n', 316627767: '63.1562885648\\n', 337770653: '50.9716979529\\n', 349457252: '75.0581481774\\n', 362797847: '29.6563890857\\n', 368895015: '71.918068156\\n', 387183888: '55.9465788867\\n', 391717643: '25.5016312127\\n', 391958007: '31.6471655322\\n', 392202280: '69.688735276\\n', 411101221: '55.2943248759\\n', 444892297: '68.9554978384\\n', 472555252: '36.7643406283\\n', 480036218: '39.5469726747\\n', 488835337: '27.1028788862\\n', 488987691: '40.4148121544\\n', 501159585: '59.0645196839\\n', 514920419: '61.5779542159\\n', 540781409: '42.902862118\\n', 564918420: '69.5866459986\\n', 567861339: '68.5558760719\\n', 571306821: '69.2750553312\\n', 590007667: '71.9358524019\\n', 59196514: '57.0014704401\\n', 604059287: '71.13091849\\n', 610418028: '59.7532683383\\n', 649155237: '66.3235616542\\n', 654164534: '46.6279591004\\n', 661981951: '41.8264330558\\n', 668995309: '28.3379793257\\n', 683557950: '73.1686043663\\n', 699270165: '48.6355750405\\n', 701733842: '28.0079651812\\n', 702558227: '34.3839793764\\n', 703974186: '37.7237695149\\n', 706115495: '59.1592916319\\n', 712687619: '30.6838960801\\n', 726620850: '24.3318115788\\n', 731535742: '27.6702767678\\n', 734066849: '50.0867309065\\n', 735615211: '60.7624862253\\n', 750640315: '31.1076391006\\n', 751797527: '40.8664436282\\n', 757115173: '58.803162795\\n', 76130907: '69.7460405288\\n', 768915941: '16.9761915852\\n', 787721926: '25.326173277\\n', 794831036: '24.3493469211\\n', 807459168: '69.8908796113\\n', 830140612: '62.8071294277\\n', 833679864: '50.8181878205\\n', 836172417: '50.1302110157\\n', 874130860: '28.31017361\\n', 882429132: '52.9876007592\\n', 88788390: '21.5879323504\\n', 89157174: '19.5608819928\\n', 901366996: '56.0037045623\\n', 910843984: '22.1781191367\\n', 911458095: '43.3104195825\\n', 912132486: '55.5063887646\\n', 913006098: '53.2486252813\\n', 914551147: '61.134396506\\n', 917460792: '45.2015294307\\n', 929429976: '30.954886697\\n', 932586519: '47.8901156459\\n', 941279029: '68.1203332791\\n', 947047278: '71.3512525749\\n', 955350626: '22.8422538233\\n', 969425420: '30.6226712508\\n', 969628285: '62.6859414171\\n', 978020243: '63.3999388608\\n', 980424644: '62.7396583078\\n', 992103594: '67.7604667945\\n'}\n"
     ]
    }
   ],
   "source": [
    "# Now you have your file list, you can loop over it to load them\n",
    "# Think about which data structure is appropriate to meet the goal of the task\n",
    "# Bonus: this can be done in a single line!\n",
    "\n",
    "# Hint: Remember that the file names are just strings, and strings have some methods you may be able to use...\n",
    "# Hint: Look at the code used to read files in the previous task - you could repurpose that...\n",
    "# Hint: Remember that you can change a string into an integer by calling int() on it (provided it is all numbers).\n",
    "\n",
    "\n",
    "# you will need a for loop to go over the actualFiles list\n",
    "from pathlib import Path\n",
    "\n",
    "dict1 = {}\n",
    "\n",
    "data_folder = Path('files')\n",
    "for aFile in actualFiles:\n",
    "    key = int(aFile[:-4])\n",
    "    file_to_open = data_folder/aFile\n",
    "    with open(file_to_open,'r') as file_object:\n",
    "        value = file_object.read()\n",
    "    dict1[key] = value\n",
    "\n",
    "print(str(len(dict1)) + \" Files in Dictionary\")\n",
    "\n",
    "print(dict1)\n",
    "\n",
    "\n",
    "\n"
   ]
  },
  {
   "cell_type": "markdown",
   "metadata": {},
   "source": [
    "# Task 3"
   ]
  },
  {
   "cell_type": "code",
   "execution_count": 31,
   "metadata": {},
   "outputs": [
    {
     "data": {
      "image/png": "[encoded data removed]",
      "text/plain": [
       "<Figure size 432x288 with 1 Axes>"
      ]
     },
     "metadata": {
      "needs_background": "light"
     },
     "output_type": "display_data"
    }
   ],
   "source": [
    "# You will need to import a library to produce the histogram.\n",
    "# Check the documentation to see which functions you need, and what arguments they take.\n",
    "\n",
    "# Import a library\n",
    "import matplotlib.pyplot as plt# Should be obvious which one I mean!\n",
    "import numpy as np\n",
    "\n",
    "plt.hist((dict1.values()), bins=20, range=None, density=False, weights=None, cumulative=True, bottom=None, \n",
    "         histtype='bar', align='mid', orientation='vertical', rwidth=None, log=False, color=None, label=None)\n",
    "\n",
    "plt.xlabel('Value of File text')\n",
    "plt.ylabel('Cumulative Frequency')\n",
    "plt.title('Histogram Dictionary 1')\n",
    "\n",
    "\n",
    "\n",
    "\n",
    "plt.grid(True)\n",
    "plt.show()\n",
    "\n",
    "\n"
   ]
  },
  {
   "cell_type": "code",
   "execution_count": null,
   "metadata": {},
   "outputs": [],
   "source": []
  }
 ],
 "metadata": {
  "kernelspec": {
   "display_name": "Python 3",
   "language": "python",
   "name": "python3"
  },
  "language_info": {
   "codemirror_mode": {
    "name": "ipython",
    "version": 3
   },
   "file_extension": ".py",
   "mimetype": "text/x-python",
   "name": "python",
   "nbconvert_exporter": "python",
   "pygments_lexer": "ipython3",
   "version": "3.8.5"
  }
 },
 "nbformat": 4,
 "nbformat_minor": 1
}
