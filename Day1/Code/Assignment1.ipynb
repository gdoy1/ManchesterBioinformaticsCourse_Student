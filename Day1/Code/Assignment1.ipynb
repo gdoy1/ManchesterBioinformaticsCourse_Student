{
 "cells": [
  {
   "cell_type": "markdown",
   "metadata": {},
   "source": [
    "# Basic Python: Assignment 1\n",
    "\n",
    "In this notebook, you have to fill in the missing code (or fix buggy code) to do some basic programming tasks. The idea is you should be able to finish these pretty quickly, and get an idea for how python and the notebook system works. When we do more complex stuff (i.e. tomorrow), we will move to using scripts rather than notebooks.\n",
    "\n",
    "## Task 1\n",
    "In this directory is a file called \"Files.txt\". It contains a list of file names, each of which is contained in the directory \"files\". A few files are missing because a cat walked over the keyboard during the file copy procedue. Which files are missing?\n",
    "\n",
    "## Task 2\n",
    "Load the data from the files that are available so that the value inside each file can be quickly found from an integer file ID key. The values are floating point numbers. \n",
    "\n",
    "## Task 3 \n",
    "Produce a histogram of the data. Play around with the number of bins until it looks nice. Try some of the other options like normalisation. Label your axes!\n"
   ]
  },
  {
   "cell_type": "code",
   "execution_count": 14,
   "metadata": {},
   "outputs": [],
   "source": [
    "%matplotlib inline\n",
    "#Make sure this cell is run, and don't change it!"
   ]
  },
  {
   "cell_type": "markdown",
   "metadata": {},
   "source": [
    "# Task 1"
   ]
  },
  {
   "cell_type": "code",
   "execution_count": 31,
   "metadata": {},
   "outputs": [
    {
     "name": "stdout",
     "output_type": "stream",
     "text": [
      "['589155271.txt', '219242066.txt', '728653832.txt']\n",
      "['411101221.txt', '590007667.txt', '750640315.txt', '833679864.txt', '316627767.txt', '163442287.txt', '387183888.txt', '258397538.txt', '911458095.txt', '514920419.txt', '241950477.txt', '210724438.txt', '472555252.txt', '269627528.txt', '368895015.txt', '901366996.txt', '349457252.txt', '941279029.txt', '701733842.txt', '567861339.txt', '978020243.txt', '794831036.txt', '980424644.txt', '152834409.txt', '278329940.txt', '392202280.txt', '610418028.txt', '699270165.txt', '917460792.txt', '683557950.txt', '929429976.txt', '735615211.txt', '232134032.txt', '932586519.txt', '480036218.txt', '914551147.txt', '955350626.txt', '237264890.txt', '564918420.txt', '757115173.txt', '947047278.txt', '88788390.txt', '787721926.txt', '913006098.txt', '604059287.txt', '992103594.txt', '910843984.txt', '668995309.txt', '106557552.txt', '501159585.txt', '649155237.txt', '391958007.txt', '706115495.txt', '751797527.txt', '444892297.txt', '768915941.txt', '654164534.txt', '874130860.txt', '969628285.txt', '830140612.txt', '251602070.txt', '145923007.txt', '540781409.txt', '488987691.txt', '712687619.txt', '391717643.txt', '201239834.txt', '265700820.txt', '191959467.txt', '703974186.txt', '337770653.txt', '205450972.txt', '836172417.txt', '362797847.txt', '571306821.txt', '121144971.txt', '170454111.txt', '115643189.txt', '76130907.txt', '59196514.txt', '882429132.txt', '661981951.txt', '726620850.txt', '126874271.txt', '89157174.txt', '488835337.txt', '912132486.txt', '316168757.txt', '265961468.txt', '969425420.txt', '20185028.txt', '702558227.txt', '731535742.txt', '261088550.txt', '734066849.txt', '30865336.txt', '807459168.txt']\n"
     ]
    }
   ],
   "source": [
    "# You need to get a list of the files in the directory \"files\"\n",
    "# You then need to compare it against a list generated from the \"Files.txt\" file.\n",
    "# Every pair of students has a unique set of files!\n",
    "# You will need a library to list the files in the directory\n",
    "\n",
    "\n",
    "# Here, import a library to list the files:\n",
    "from os import listdir\n",
    "\n",
    "# Open the file containing the list of patients and read it into a list, one line at a time\n",
    "\n",
    "#read in the files\n",
    "# This is a handy way to make sure the file is closed when you're done with it.\n",
    "# For reference, the open command takes two arguments, a file name and an 'open mode' which may be 'r', 'w' or 'a' \n",
    "# Thise mean 'r'ead, 'w'rite and 'a'ppend\n",
    "with open(\"Files.txt\", 'r') as file_in:\n",
    "    expected_files = [] # Start with an empty list\n",
    "    for line in file_in:\n",
    "        expected_files.append(line.strip())\n",
    "\n",
    "# Now you have a list of files read from the file, you just need to work out which ones are missing.\n",
    "# First of all, get a list of files in the directory (using a library function)\n",
    "\n",
    "# Simple function goes here!\n",
    "actual_files = listdir('./files')\n",
    "\n",
    "# Now you have two lists, you can compare them to find which files are not in the directory\n",
    "def missing_files(expected_files, actual_files):\n",
    "    out = []\n",
    "    for file in expected_files:\n",
    "        if not file in actual_files:\n",
    "            out.append(file)\n",
    "    return out\n",
    "\n",
    "print(missing_files(expected_files, actual_files))\n",
    "print(actual_files)\n"
   ]
  },
  {
   "cell_type": "markdown",
   "metadata": {},
   "source": [
    "# Task 2\n"
   ]
  },
  {
   "cell_type": "code",
   "execution_count": 42,
   "metadata": {},
   "outputs": [
    {
     "name": "stdout",
     "output_type": "stream",
     "text": [
      "['55.2943248759\\n', '71.9358524019\\n', '31.1076391006\\n', '50.8181878205\\n', '63.1562885648\\n', '70.7696087485\\n', '55.9465788867\\n', '54.7090177046\\n', '43.3104195825\\n', '61.5779542159\\n', '63.9408073916\\n', '60.7232327439\\n', '36.7643406283\\n', '49.6873006267\\n', '71.918068156\\n', '56.0037045623\\n', '75.0581481774\\n', '68.1203332791\\n', '28.0079651812\\n', '68.5558760719\\n', '63.3999388608\\n', '24.3493469211\\n', '62.7396583078\\n', '23.8026492126\\n', '49.4844723678\\n', '69.688735276\\n', '59.7532683383\\n', '48.6355750405\\n', '45.2015294307\\n', '73.1686043663\\n', '30.954886697\\n', '60.7624862253\\n', '32.5461706745\\n', '47.8901156459\\n', '39.5469726747\\n', '61.134396506\\n', '22.8422538233\\n', '64.7554079342\\n', '69.5866459986\\n', '58.803162795\\n', '71.3512525749\\n', '21.5879323504\\n', '25.326173277\\n', '53.2486252813\\n', '71.13091849\\n', '67.7604667945\\n', '22.1781191367\\n', '28.3379793257\\n', '48.1356297994\\n', '59.0645196839\\n', '66.3235616542\\n', '31.6471655322\\n', '59.1592916319\\n', '40.8664436282\\n', '68.9554978384\\n', '16.9761915852\\n', '46.6279591004\\n', '28.31017361\\n', '62.6859414171\\n', '62.8071294277\\n', '48.8831814885\\n', '50.8702866096\\n', '42.902862118\\n', '40.4148121544\\n', '30.6838960801\\n', '25.5016312127\\n', '70.3689465343\\n', '61.8842504389\\n', '63.2621973942\\n', '37.7237695149\\n', '50.9716979529\\n', '28.5916466129\\n', '50.1302110157\\n', '29.6563890857\\n', '69.2750553312\\n', '25.1997139462\\n', '61.4667366216\\n', '32.1855213236\\n', '69.7460405288\\n', '57.0014704401\\n', '52.9876007592\\n', '41.8264330558\\n', '24.3318115788\\n', '74.6536161543\\n', '19.5608819928\\n', '27.1028788862\\n', '55.5063887646\\n', '64.0472558734\\n', '38.4930257003\\n', '30.6226712508\\n', '34.4360697956\\n', '34.3839793764\\n', '27.6702767678\\n', '54.4988554278\\n', '50.0867309065\\n', '68.8054281772\\n', '69.8908796113\\n']\n"
     ]
    }
   ],
   "source": [
    "# Now you have your file list, you can loop over it to load them\n",
    "# Think about which data structure is appropriate to meet the goal of the task\n",
    "# Bonus: this can be done in a single line!\n",
    "\n",
    "# Hint: Remember that the file names are just strings, and strings have some methods you may be able to use...\n",
    "# Hint: Look at the code used to read files in the previous task - you could repurpose that...\n",
    "# Hint: Remember that you can change a string into an integer by calling int() on it (provided it is all numbers).\n",
    "\n",
    "\n",
    "# you will need a for loop to go over the actualFiles list\n",
    "contents = []\n",
    "for aFile in actual_files:\n",
    "    filepath = \"/Users/keithgraham/PycharmProjects/ICT/ManchesterBioinformaticsCourse_Student/Day1/Code/files/\" + aFile\n",
    "    with open(filepath) as filein1:\n",
    "        variable = filein1.read()\n",
    "        contents.append(variable)\n",
    "print(contents)\n",
    "        \n",
    "    \n",
    "\n",
    "\n",
    "\n"
   ]
  },
  {
   "cell_type": "markdown",
   "metadata": {},
   "source": [
    "# Task 3"
   ]
  },
  {
   "cell_type": "code",
   "execution_count": 37,
   "metadata": {},
   "outputs": [
    {
     "ename": "ModuleNotFoundError",
     "evalue": "No module named 'libraryNameHere'",
     "output_type": "error",
     "traceback": [
      "\u001b[0;31m---------------------------------------------------------------------------\u001b[0m",
      "\u001b[0;31mModuleNotFoundError\u001b[0m                       Traceback (most recent call last)",
      "\u001b[0;32m<ipython-input-37-9e28761b644b>\u001b[0m in \u001b[0;36m<module>\u001b[0;34m\u001b[0m\n\u001b[1;32m      3\u001b[0m \u001b[0;34m\u001b[0m\u001b[0m\n\u001b[1;32m      4\u001b[0m \u001b[0;31m# Import a library\u001b[0m\u001b[0;34m\u001b[0m\u001b[0;34m\u001b[0m\u001b[0;34m\u001b[0m\u001b[0m\n\u001b[0;32m----> 5\u001b[0;31m \u001b[0;32mimport\u001b[0m \u001b[0mlibraryNameHere\u001b[0m \u001b[0;32mas\u001b[0m \u001b[0mplt\u001b[0m \u001b[0;31m# Should be obvious which one I mean!\u001b[0m\u001b[0;34m\u001b[0m\u001b[0;34m\u001b[0m\u001b[0m\n\u001b[0m\u001b[1;32m      6\u001b[0m \u001b[0;34m\u001b[0m\u001b[0m\n\u001b[1;32m      7\u001b[0m \u001b[0;31m# Now create the histogram\u001b[0m\u001b[0;34m\u001b[0m\u001b[0;34m\u001b[0m\u001b[0;34m\u001b[0m\u001b[0m\n",
      "\u001b[0;31mModuleNotFoundError\u001b[0m: No module named 'libraryNameHere'"
     ]
    }
   ],
   "source": [
    "# You will need to import a library to produce the histogram.\n",
    "# Check the documentation to see which functions you need, and what arguments they take.\n",
    "\n",
    "# Import a library\n",
    "import libraryNameHere as plt # Should be obvious which one I mean!\n",
    "\n",
    "# Now create the histogram \n",
    "\n",
    "# There are loads of things to play with in plotting - have a go with some of them here (e.g. normalisation):\n",
    "\n",
    "# Label the axes!\n",
    "\n",
    "\n"
   ]
  },
  {
   "cell_type": "code",
   "execution_count": null,
   "metadata": {},
   "outputs": [],
   "source": []
  }
 ],
 "metadata": {
  "kernelspec": {
   "display_name": "Python 3",
   "language": "python",
   "name": "python3"
  },
  "language_info": {
   "codemirror_mode": {
    "name": "ipython",
    "version": 3
   },
   "file_extension": ".py",
   "mimetype": "text/x-python",
   "name": "python",
   "nbconvert_exporter": "python",
   "pygments_lexer": "ipython3",
   "version": "3.8.5"
  }
 },
 "nbformat": 4,
 "nbformat_minor": 1
}
