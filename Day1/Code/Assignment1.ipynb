{
 "cells": [
  {
   "cell_type": "markdown",
   "metadata": {},
   "source": [
    "# Basic Python: Assignment 1\n",
    "\n",
    "In this notebook, you have to fill in the missing code (or fix buggy code) to do some basic programming tasks. The idea is you should be able to finish these pretty quickly, and get an idea for how python and the notebook system works. When we do more complex stuff (i.e. tomorrow), we will move to using scripts rather than notebooks.\n",
    "\n",
    "## Task 1\n",
    "In this directory is a file called \"Files.txt\". It contains a list of file names, each of which is contained in the directory \"files\". A few files are missing because a cat walked over the keyboard during the file copy procedue. Which files are missing?\n",
    "\n",
    "## Task 2\n",
    "Load the data from the files that are available so that the value inside each file can be quickly found from an integer file ID key. The values are floating point numbers. \n",
    "\n",
    "## Task 3 \n",
    "Produce a histogram of the data. Play around with the number of bins until it looks nice. Try some of the other options like normalisation. Label your axes!\n"
   ]
  },
  {
   "cell_type": "code",
   "execution_count": 3,
   "metadata": {},
   "outputs": [],
   "source": [
    "%matplotlib inline"
   ]
  },
  {
   "cell_type": "markdown",
   "metadata": {},
   "source": [
    "# Task 1"
   ]
  },
  {
   "cell_type": "code",
   "execution_count": 8,
   "metadata": {
    "scrolled": true
   },
   "outputs": [
    {
     "name": "stdout",
     "output_type": "stream",
     "text": [
      "['106557552.txt', '115643189.txt', '121144971.txt', '126874271.txt', '145923007.txt', '152834409.txt', '163442287.txt', '170454111.txt', '191959467.txt', '201239834.txt', '20185028.txt', '205450972.txt', '210724438.txt', '232134032.txt', '237264890.txt', '241950477.txt', '251602070.txt', '258397538.txt', '261088550.txt', '265700820.txt', '265961468.txt', '269627528.txt', '278329940.txt', '30865336.txt', '316168757.txt', '316627767.txt', '337770653.txt', '349457252.txt', '362797847.txt', '368895015.txt', '387183888.txt', '391717643.txt', '391958007.txt', '392202280.txt', '411101221.txt', '444892297.txt', '472555252.txt', '480036218.txt', '488835337.txt', '488987691.txt', '501159585.txt', '514920419.txt', '540781409.txt', '564918420.txt', '567861339.txt', '571306821.txt', '590007667.txt', '59196514.txt', '604059287.txt', '610418028.txt', '649155237.txt', '654164534.txt', '661981951.txt', '668995309.txt', '683557950.txt', '699270165.txt', '701733842.txt', '702558227.txt', '703974186.txt', '706115495.txt', '712687619.txt', '726620850.txt', '731535742.txt', '734066849.txt', '735615211.txt', '750640315.txt', '751797527.txt', '757115173.txt', '76130907.txt', '768915941.txt', '787721926.txt', '794831036.txt', '807459168.txt', '830140612.txt', '833679864.txt', '836172417.txt', '874130860.txt', '882429132.txt', '88788390.txt', '89157174.txt', '901366996.txt', '910843984.txt', '911458095.txt', '912132486.txt', '913006098.txt', '914551147.txt', '917460792.txt', '929429976.txt', '932586519.txt', '941279029.txt', '947047278.txt', '955350626.txt', '969425420.txt', '969628285.txt', '978020243.txt', '980424644.txt', '992103594.txt']\n"
     ]
    }
   ],
   "source": [
    "import os\n",
    "dir_list = os.listdir(\"files\")\n",
    "print(dir_list)"
   ]
  },
  {
   "cell_type": "code",
   "execution_count": 19,
   "metadata": {
    "scrolled": true
   },
   "outputs": [
    {
     "name": "stdout",
     "output_type": "stream",
     "text": [
      "['668995309.txt', '726620850.txt', '874130860.txt', '152834409.txt', '731535742.txt', '20185028.txt', '702558227.txt', '488835337.txt', '787721926.txt', '794831036.txt', '929429976.txt', '910843984.txt', '750640315.txt', '391717643.txt', '121144971.txt', '712687619.txt', '232134032.txt', '955350626.txt', '89157174.txt', '768915941.txt', '88788390.txt', '362797847.txt', '969425420.txt', '701733842.txt', '205450972.txt', '589155271.txt', '941279029.txt', '833679864.txt', '683557950.txt', '514920419.txt', '316627767.txt', '472555252.txt', '76130907.txt', '734066849.txt', '567861339.txt', '269627528.txt', '30865336.txt', '706115495.txt', '392202280.txt', '836172417.txt', '901366996.txt', '488987691.txt', '751797527.txt', '661981951.txt', '387183888.txt', '391958007.txt', '337770653.txt', '564918420.txt', '258397538.txt', '807459168.txt', '882429132.txt', '757115173.txt', '830140612.txt', '911458095.txt', '978020243.txt', '590007667.txt', '126874271.txt', '115643189.txt', '969628285.txt', '201239834.txt', '145923007.txt', '219242066.txt', '349457252.txt', '191959467.txt', '699270165.txt', '59196514.txt', '261088550.txt', '980424644.txt', '444892297.txt', '501159585.txt', '278329940.txt', '265961468.txt', '912132486.txt', '540781409.txt', '237264890.txt', '654164534.txt', '728653832.txt', '604059287.txt', '163442287.txt', '170454111.txt', '917460792.txt', '649155237.txt', '265700820.txt', '411101221.txt', '368895015.txt', '610418028.txt', '571306821.txt', '703974186.txt', '913006098.txt', '914551147.txt', '735615211.txt', '992103594.txt', '241950477.txt', '106557552.txt', '947047278.txt', '932586519.txt', '480036218.txt', '210724438.txt', '316168757.txt', '251602070.txt']\n"
     ]
    }
   ],
   "source": [
    "expectedFiles = []\n",
    "with open(\"Files.txt\") as f:\n",
    "    expectedFiles = f.read().splitlines()\n",
    "print(expectedFiles)"
   ]
  },
  {
   "cell_type": "code",
   "execution_count": 31,
   "metadata": {},
   "outputs": [
    {
     "name": "stdout",
     "output_type": "stream",
     "text": [
      "['219242066.txt', '589155271.txt', '728653832.txt']\n"
     ]
    }
   ],
   "source": [
    "def Diff(listA, listB):\n",
    "    return (list(set(listA)-set(listB))+list(set(listB)-set(listA)))\n",
    "print(Diff(dir_list, expectedFiles))"
   ]
  },
  {
   "cell_type": "code",
   "execution_count": 35,
   "metadata": {
    "scrolled": true
   },
   "outputs": [
    {
     "name": "stdout",
     "output_type": "stream",
     "text": [
      "['668995309.txt', '726620850.txt', '874130860.txt', '152834409.txt', '731535742.txt', '20185028.txt', '702558227.txt', '488835337.txt', '787721926.txt', '794831036.txt', '929429976.txt', '910843984.txt', '750640315.txt', '391717643.txt', '121144971.txt', '712687619.txt', '232134032.txt', '955350626.txt', '89157174.txt', '768915941.txt', '88788390.txt', '362797847.txt', '969425420.txt', '701733842.txt', '205450972.txt', '589155271.txt', '941279029.txt', '833679864.txt', '683557950.txt', '514920419.txt', '316627767.txt', '472555252.txt', '76130907.txt', '734066849.txt', '567861339.txt', '269627528.txt', '30865336.txt', '706115495.txt', '392202280.txt', '836172417.txt', '901366996.txt', '488987691.txt', '751797527.txt', '661981951.txt', '387183888.txt', '391958007.txt', '337770653.txt', '564918420.txt', '258397538.txt', '807459168.txt', '882429132.txt', '757115173.txt', '830140612.txt', '911458095.txt', '978020243.txt', '590007667.txt', '126874271.txt', '115643189.txt', '969628285.txt', '201239834.txt', '145923007.txt', '219242066.txt', '349457252.txt', '191959467.txt', '699270165.txt', '59196514.txt', '261088550.txt', '980424644.txt', '444892297.txt', '501159585.txt', '278329940.txt', '265961468.txt', '912132486.txt', '540781409.txt', '237264890.txt', '654164534.txt', '728653832.txt', '604059287.txt', '163442287.txt', '170454111.txt', '917460792.txt', '649155237.txt', '265700820.txt', '411101221.txt', '368895015.txt', '610418028.txt', '571306821.txt', '703974186.txt', '913006098.txt', '914551147.txt', '735615211.txt', '992103594.txt', '241950477.txt', '106557552.txt', '947047278.txt', '932586519.txt', '480036218.txt', '210724438.txt', '316168757.txt', '251602070.txt']\n",
      "['106557552.txt', '115643189.txt', '121144971.txt', '126874271.txt', '145923007.txt', '152834409.txt', '163442287.txt', '170454111.txt', '191959467.txt', '201239834.txt', '20185028.txt', '205450972.txt', '210724438.txt', '232134032.txt', '237264890.txt', '241950477.txt', '251602070.txt', '258397538.txt', '261088550.txt', '265700820.txt', '265961468.txt', '269627528.txt', '278329940.txt', '30865336.txt', '316168757.txt', '316627767.txt', '337770653.txt', '349457252.txt', '362797847.txt', '368895015.txt', '387183888.txt', '391717643.txt', '391958007.txt', '392202280.txt', '411101221.txt', '444892297.txt', '472555252.txt', '480036218.txt', '488835337.txt', '488987691.txt', '501159585.txt', '514920419.txt', '540781409.txt', '564918420.txt', '567861339.txt', '571306821.txt', '590007667.txt', '59196514.txt', '604059287.txt', '610418028.txt', '649155237.txt', '654164534.txt', '661981951.txt', '668995309.txt', '683557950.txt', '699270165.txt', '701733842.txt', '702558227.txt', '703974186.txt', '706115495.txt', '712687619.txt', '726620850.txt', '731535742.txt', '734066849.txt', '735615211.txt', '750640315.txt', '751797527.txt', '757115173.txt', '76130907.txt', '768915941.txt', '787721926.txt', '794831036.txt', '807459168.txt', '830140612.txt', '833679864.txt', '836172417.txt', '874130860.txt', '882429132.txt', '88788390.txt', '89157174.txt', '901366996.txt', '910843984.txt', '911458095.txt', '912132486.txt', '913006098.txt', '914551147.txt', '917460792.txt', '929429976.txt', '932586519.txt', '941279029.txt', '947047278.txt', '955350626.txt', '969425420.txt', '969628285.txt', '978020243.txt', '980424644.txt', '992103594.txt']\n",
      "['219242066.txt', '589155271.txt', '728653832.txt']\n"
     ]
    }
   ],
   "source": [
    "# You need to get a list of the files in the directory \"files\"\n",
    "# You then need to compare it against a list generated from the \"Files.txt\" file.\n",
    "# Every pair of students has a unique set of files!\n",
    "# You will need a library to list the files in the directory\n",
    "\n",
    "\n",
    "# Here, import a library to list the files:\n",
    "import os\n",
    "\n",
    "\n",
    "# Open the file containing the list of patients and read it into a list, one line at a time\n",
    "\n",
    "# Start with an empty list\n",
    "expectedFiles = []\n",
    "\n",
    "with open(\"Files.txt\") as f:\n",
    "    expectedFiles = f.read().splitlines()\n",
    "print(expectedFiles)\n",
    "\n",
    "\n",
    "# This is a handy way to make sure the file is closed when you're done with it.\n",
    "# For reference, the open command takes two arguments, a file name and an 'open mode' which may be 'r', 'w' or 'a' \n",
    "# Thise mean 'r'ead, 'w'rite and 'a'ppend\n",
    "# with open(\"Files.txt\", 'r') as fileList:\n",
    "# You fill in this bit\n",
    "\n",
    "    \n",
    "# Now you have a list of files read from the file, you just need to work out which ones are missing.\n",
    "# First of all, get a list of files in the directory (using a library function)\n",
    "\n",
    "actualFiles = os.listdir(\"files\")\n",
    "print(actualFiles)\n",
    "\n",
    "\n",
    "\n",
    "# Now you have two lists, you can compare them to find which files are not in the directory\n",
    "\n",
    "def Diff(listA, listB):\n",
    "    return (list(set(listA)-set(listB))+list(set(listB)-set(listA)))\n",
    "\n",
    "missingFiles = (Diff(dir_list, expectedFiles))\n",
    "\n",
    "print(missingFiles)\n",
    "\n"
   ]
  },
  {
   "cell_type": "markdown",
   "metadata": {},
   "source": [
    "# Task 2\n"
   ]
  },
  {
   "cell_type": "code",
   "execution_count": 56,
   "metadata": {},
   "outputs": [
    {
     "name": "stdout",
     "output_type": "stream",
     "text": [
      "48.1356297994\n"
     ]
    }
   ],
   "source": [
    "f = open(\"files/106557552.txt\", \"r\")\n",
    "print(float(f.read().splitlines()[0]))"
   ]
  },
  {
   "cell_type": "code",
   "execution_count": 57,
   "metadata": {},
   "outputs": [
    {
     "name": "stdout",
     "output_type": "stream",
     "text": [
      "[48.1356297994, 32.1855213236, 25.1997139462, 74.6536161543, 50.8702866096, 23.8026492126, 70.7696087485, 61.4667366216, 63.2621973942, 70.3689465343, 34.4360697956, 28.5916466129, 60.7232327439, 32.5461706745, 64.7554079342, 63.9408073916, 48.8831814885, 54.7090177046, 54.4988554278, 61.8842504389, 38.4930257003, 49.6873006267, 49.4844723678, 68.8054281772, 64.0472558734, 63.1562885648, 50.9716979529, 75.0581481774, 29.6563890857, 71.918068156, 55.9465788867, 25.5016312127, 31.6471655322, 69.688735276, 55.2943248759, 68.9554978384, 36.7643406283, 39.5469726747, 27.1028788862, 40.4148121544, 59.0645196839, 61.5779542159, 42.902862118, 69.5866459986, 68.5558760719, 69.2750553312, 71.9358524019, 57.0014704401, 71.13091849, 59.7532683383, 66.3235616542, 46.6279591004, 41.8264330558, 28.3379793257, 73.1686043663, 48.6355750405, 28.0079651812, 34.3839793764, 37.7237695149, 59.1592916319, 30.6838960801, 24.3318115788, 27.6702767678, 50.0867309065, 60.7624862253, 31.1076391006, 40.8664436282, 58.803162795, 69.7460405288, 16.9761915852, 25.326173277, 24.3493469211, 69.8908796113, 62.8071294277, 50.8181878205, 50.1302110157, 28.31017361, 52.9876007592, 21.5879323504, 19.5608819928, 56.0037045623, 22.1781191367, 43.3104195825, 55.5063887646, 53.2486252813, 61.134396506, 45.2015294307, 30.954886697, 47.8901156459, 68.1203332791, 71.3512525749, 22.8422538233, 30.6226712508, 62.6859414171, 63.3999388608, 62.7396583078, 67.7604667945]\n"
     ]
    }
   ],
   "source": [
    "# Now you have your file list, you can loop over it to load them\n",
    "# Think about which data structure is appropriate to meet the goal of the task\n",
    "# Bonus: this can be done in a single line!\n",
    "\n",
    "# Hint: Remember that the file names are just strings, and strings have some methods you may be able to use...\n",
    "# Hint: Look at the code used to read files in the previous task - you could repurpose that...\n",
    "# Hint: Remember that you can change a string into an integer by calling int() on it (provided it is all numbers).\n",
    "\n",
    "\n",
    "# you will need a for loop to go over the actualFiles list\n",
    "fileContents = []\n",
    "for aFile in actualFiles:\n",
    "    f = open(\"files/\"+aFile, \"r\")\n",
    "    fileContents.append(float(f.read().splitlines()[0]))\n",
    "\n",
    "print(fileContents)\n",
    "    \n",
    "    # Your code here!\n",
    "    \n",
    "\n",
    "\n",
    "\n"
   ]
  },
  {
   "cell_type": "markdown",
   "metadata": {},
   "source": [
    "# Task 3"
   ]
  },
  {
   "cell_type": "code",
   "execution_count": 70,
   "metadata": {},
   "outputs": [
    {
     "data": {
      "text/plain": [
       "(array([0.00532486, 0.01597458, 0.02396187, 0.01863701, 0.00798729,\n",
       "        0.01064972, 0.01331215, 0.00798729, 0.02662431, 0.01597458,\n",
       "        0.01597458, 0.0346116 , 0.01064972, 0.0346116 , 0.01597458]),\n",
       " array([16.97619159, 20.84832202, 24.72045246, 28.5925829 , 32.46471334,\n",
       "        36.33684378, 40.20897422, 44.08110466, 47.9532351 , 51.82536554,\n",
       "        55.69749598, 59.56962642, 63.44175686, 67.3138873 , 71.18601774,\n",
       "        75.05814818]),\n",
       " <a list of 15 Patch objects>)"
      ]
     },
     "execution_count": 70,
     "metadata": {},
     "output_type": "execute_result"
    },
    {
     "data": {
      "image/png": "[encoded data removed]",
      "text/plain": [
       "<Figure size 432x288 with 1 Axes>"
      ]
     },
     "metadata": {
      "needs_background": "light"
     },
     "output_type": "display_data"
    }
   ],
   "source": [
    "import matplotlib.pyplot as plt\n",
    "plt.hist(fileContents, density=\"TRUE\", bins=15)"
   ]
  },
  {
   "cell_type": "code",
   "execution_count": 72,
   "metadata": {},
   "outputs": [
    {
     "data": {
      "text/plain": [
       "(array([0.00709981, 0.00709981, 0.02484935, 0.02129944, 0.01774954,\n",
       "        0.01419963, 0.00709981, 0.01064972, 0.01419963, 0.00709981,\n",
       "        0.01774954, 0.02484935, 0.01419963, 0.01774954, 0.01419963,\n",
       "        0.04259889, 0.01419963, 0.01774954, 0.03904898, 0.01064972]),\n",
       " array([16.97619159, 19.88028941, 22.78438724, 25.68848507, 28.5925829 ,\n",
       "        31.49668073, 34.40077856, 37.30487639, 40.20897422, 43.11307205,\n",
       "        46.01716988, 48.92126771, 51.82536554, 54.72946337, 57.6335612 ,\n",
       "        60.53765903, 63.44175686, 66.34585469, 69.24995252, 72.15405035,\n",
       "        75.05814818]),\n",
       " <a list of 20 Patch objects>)"
      ]
     },
     "execution_count": 72,
     "metadata": {},
     "output_type": "execute_result"
    },
    {
     "data": {
      "image/png": "[encoded data removed]",
      "text/plain": [
       "<Figure size 432x288 with 1 Axes>"
      ]
     },
     "metadata": {
      "needs_background": "light"
     },
     "output_type": "display_data"
    }
   ],
   "source": [
    "# You will need to import a library to produce the histogram.\n",
    "# Check the documentation to see which functions you need, and what arguments they take.\n",
    "\n",
    "# Import a library\n",
    "import matplotlib.pyplot as plt # Should be obvious which one I mean!\n",
    "\n",
    "# Now create the histogram \n",
    "plt.hist(fileContents)\n",
    "plt.xlabel(\"xaxis\")\n",
    "plt.ylabel(\"frequency\")\n",
    "\n",
    "# There are loads of things to play with in plotting - have a go with some of them here (e.g. normalisation):\n",
    "\n",
    "plt.hist(fileContents, density=\"TRUE\")\n",
    "\n",
    "plt.hist(fileContents, density=\"TRUE\", bins=8)\n",
    "\n",
    "plt.hist(fileContents, density=\"TRUE\", bins=20)\n",
    "\n",
    "\n",
    "# Label the axes!\n",
    "\n",
    "\n",
    "\n"
   ]
  },
  {
   "cell_type": "code",
   "execution_count": null,
   "metadata": {},
   "outputs": [],
   "source": []
  }
 ],
 "metadata": {
  "kernelspec": {
   "display_name": "Python 3",
   "language": "python",
   "name": "python3"
  },
  "language_info": {
   "codemirror_mode": {
    "name": "ipython",
    "version": 3
   },
   "file_extension": ".py",
   "mimetype": "text/x-python",
   "name": "python",
   "nbconvert_exporter": "python",
   "pygments_lexer": "ipython3",
   "version": "3.8.3"
  }
 },
 "nbformat": 4,
 "nbformat_minor": 1
}
