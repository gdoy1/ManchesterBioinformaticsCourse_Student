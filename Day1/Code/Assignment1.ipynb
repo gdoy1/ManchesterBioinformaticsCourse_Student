{
 "cells": [
  {
   "cell_type": "markdown",
   "metadata": {},
   "source": [
    "# Basic Python: Assignment 1\n",
    "\n",
    "In this notebook, you have to fill in the missing code (or fix buggy code) to do some basic programming tasks. The idea is you should be able to finish these pretty quickly, and get an idea for how python and the notebook system works. When we do more complex stuff (i.e. tomorrow), we will move to using scripts rather than notebooks.\n",
    "\n",
    "## Task 1\n",
    "In this directory is a file called \"Files.txt\". It contains a list of file names, each of which is contained in the directory \"files\". A few files are missing because a cat walked over the keyboard during the file copy procedue. Which files are missing?\n",
    "\n",
    "## Task 2\n",
    "Load the data from the files that are available so that the value inside each file can be quickly found from an integer file ID key. The values are floating point numbers. \n",
    "\n",
    "## Task 3 \n",
    "Produce a histogram of the data. Play around with the number of bins until it looks nice. Try some of the other options like normalisation. Label your axes!\n"
   ]
  },
  {
   "cell_type": "code",
   "execution_count": 2,
   "metadata": {},
   "outputs": [],
   "source": [
    "%matplotlib inline"
   ]
  },
  {
   "cell_type": "markdown",
   "metadata": {},
   "source": [
    "# Task 1"
   ]
  },
  {
   "cell_type": "code",
   "execution_count": 10,
   "metadata": {},
   "outputs": [
    {
     "name": "stdout",
     "output_type": "stream",
     "text": [
      "100 expected files:  ['106557552.txt', '115643189.txt', '121144971.txt', '126874271.txt', '145923007.txt', '152834409.txt', '163442287.txt', '170454111.txt', '191959467.txt', '201239834.txt', '20185028.txt', '205450972.txt', '210724438.txt', '219242066.txt', '232134032.txt', '237264890.txt', '241950477.txt', '251602070.txt', '258397538.txt', '261088550.txt', '265700820.txt', '265961468.txt', '269627528.txt', '278329940.txt', '30865336.txt', '316168757.txt', '316627767.txt', '337770653.txt', '349457252.txt', '362797847.txt', '368895015.txt', '387183888.txt', '391717643.txt', '391958007.txt', '392202280.txt', '411101221.txt', '444892297.txt', '472555252.txt', '480036218.txt', '488835337.txt', '488987691.txt', '501159585.txt', '514920419.txt', '540781409.txt', '564918420.txt', '567861339.txt', '571306821.txt', '589155271.txt', '590007667.txt', '59196514.txt', '604059287.txt', '610418028.txt', '649155237.txt', '654164534.txt', '661981951.txt', '668995309.txt', '683557950.txt', '699270165.txt', '701733842.txt', '702558227.txt', '703974186.txt', '706115495.txt', '712687619.txt', '726620850.txt', '728653832.txt', '731535742.txt', '734066849.txt', '735615211.txt', '750640315.txt', '751797527.txt', '757115173.txt', '76130907.txt', '768915941.txt', '787721926.txt', '794831036.txt', '807459168.txt', '830140612.txt', '833679864.txt', '836172417.txt', '874130860.txt', '882429132.txt', '88788390.txt', '89157174.txt', '901366996.txt', '910843984.txt', '911458095.txt', '912132486.txt', '913006098.txt', '914551147.txt', '917460792.txt', '929429976.txt', '932586519.txt', '941279029.txt', '947047278.txt', '955350626.txt', '969425420.txt', '969628285.txt', '978020243.txt', '980424644.txt', '992103594.txt']\n",
      "97 actual files:  ['106557552.txt', '115643189.txt', '121144971.txt', '126874271.txt', '145923007.txt', '152834409.txt', '163442287.txt', '170454111.txt', '191959467.txt', '201239834.txt', '20185028.txt', '205450972.txt', '210724438.txt', '232134032.txt', '237264890.txt', '241950477.txt', '251602070.txt', '258397538.txt', '261088550.txt', '265700820.txt', '265961468.txt', '269627528.txt', '278329940.txt', '30865336.txt', '316168757.txt', '316627767.txt', '337770653.txt', '349457252.txt', '362797847.txt', '368895015.txt', '387183888.txt', '391717643.txt', '391958007.txt', '392202280.txt', '411101221.txt', '444892297.txt', '472555252.txt', '480036218.txt', '488835337.txt', '488987691.txt', '501159585.txt', '514920419.txt', '540781409.txt', '564918420.txt', '567861339.txt', '571306821.txt', '590007667.txt', '59196514.txt', '604059287.txt', '610418028.txt', '649155237.txt', '654164534.txt', '661981951.txt', '668995309.txt', '683557950.txt', '699270165.txt', '701733842.txt', '702558227.txt', '703974186.txt', '706115495.txt', '712687619.txt', '726620850.txt', '731535742.txt', '734066849.txt', '735615211.txt', '750640315.txt', '751797527.txt', '757115173.txt', '76130907.txt', '768915941.txt', '787721926.txt', '794831036.txt', '807459168.txt', '830140612.txt', '833679864.txt', '836172417.txt', '874130860.txt', '882429132.txt', '88788390.txt', '89157174.txt', '901366996.txt', '910843984.txt', '911458095.txt', '912132486.txt', '913006098.txt', '914551147.txt', '917460792.txt', '929429976.txt', '932586519.txt', '941279029.txt', '947047278.txt', '955350626.txt', '969425420.txt', '969628285.txt', '978020243.txt', '980424644.txt', '992103594.txt']\n",
      "0 missing files:  []\n"
     ]
    }
   ],
   "source": [
    "# You need to get a list of the files in the directory \"files\"\n",
    "# You then need to compare it against a list generated from the \"Files.txt\" file.\n",
    "# Every pair of students has a unique set of files!\n",
    "# You will need a library to list the files in the directory\n",
    "\n",
    "import os\n",
    "\n",
    "# Open 'Files.txt' (which contains a list of all patients) and read it into a list line-by-line\n",
    "expectedFiles = []\n",
    "with open(\"Files.txt\", 'r') as fileList:\n",
    "    for line in fileList.readlines():\n",
    "        expectedFiles.append(line.strip())\n",
    "expectedFiles.sort()\n",
    "print(str(len(expectedFiles)) + ' expected files: ', expectedFiles)\n",
    "    \n",
    "# Get a list of the files which do exist in the directory\n",
    "actualFiles = os.listdir('files')\n",
    "actualFiles.sort()\n",
    "print(str(len(actualFiles)) + ' actual files: ', actualFiles)\n",
    "\n",
    "# Compare the two lists and return the difference (i.e. the missing files)\n",
    "missingFiles = []\n",
    "for line in actualFiles:\n",
    "    if line not in expectedFiles:\n",
    "        missingFiles.append(line)\n",
    "print(str(len(missingFiles)) + ' missing files: ', missingFiles)\n"
   ]
  },
  {
   "cell_type": "markdown",
   "metadata": {},
   "source": [
    "# Task 2\n"
   ]
  },
  {
   "cell_type": "code",
   "execution_count": null,
   "metadata": {
    "collapsed": true
   },
   "outputs": [],
   "source": [
    "# Now you have your file list, you can loop over it to load them\n",
    "# Think about which data structure is appropriate to meet the goal of the task\n",
    "# Bonus: this can be done in a single line!\n",
    "\n",
    "# Hint: Remember that the file names are just strings, and strings have some methods you may be able to use...\n",
    "# Hint: Look at the code used to read files in the previous task - you could repurpose that...\n",
    "# Hint: Remember that you can change a string into an integer by calling int() on it (provided it is all numbers).\n",
    "\n",
    "\n",
    "# you will need a for loop to go over the actualFiles list\n",
    "for aFile #...\n",
    "    # Your code here!\n",
    "    \n",
    "\n",
    "\n",
    "\n"
   ]
  },
  {
   "cell_type": "markdown",
   "metadata": {},
   "source": [
    "# Task 3"
   ]
  },
  {
   "cell_type": "code",
   "execution_count": null,
   "metadata": {
    "collapsed": true
   },
   "outputs": [],
   "source": [
    "# You will need to import a library to produce the histogram.\n",
    "# Check the documentation to see which functions you need, and what arguments they take.\n",
    "\n",
    "# Import a library\n",
    "import libraryNameHere as plt # Should be obvious which one I mean!\n",
    "\n",
    "# Now create the histogram \n",
    "\n",
    "# There are loads of things to play with in plotting - have a go with some of them here (e.g. normalisation):\n",
    "\n",
    "# Label the axes!\n",
    "\n",
    "\n"
   ]
  }
 ],
 "metadata": {
  "kernelspec": {
   "display_name": "Python 3",
   "language": "python",
   "name": "python3"
  },
  "language_info": {
   "codemirror_mode": {
    "name": "ipython",
    "version": 3
   },
   "file_extension": ".py",
   "mimetype": "text/x-python",
   "name": "python",
   "nbconvert_exporter": "python",
   "pygments_lexer": "ipython3",
   "version": "3.8.3"
  }
 },
 "nbformat": 4,
 "nbformat_minor": 1
}
