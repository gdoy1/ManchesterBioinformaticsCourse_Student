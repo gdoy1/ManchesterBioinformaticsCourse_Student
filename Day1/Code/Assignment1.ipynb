{
 "cells": [
  {
   "cell_type": "markdown",
   "metadata": {},
   "source": [
    "# Basic Python: Assignment 1\n",
    "\n",
    "In this notebook, you have to fill in the missing code (or fix buggy code) to do some basic programming tasks. The idea is you should be able to finish these pretty quickly, and get an idea for how python and the notebook system works. When we do more complex stuff (i.e. tomorrow), we will move to using scripts rather than notebooks.\n",
    "\n",
    "## Task 1\n",
    "In this directory is a file called \"Files.txt\". It contains a list of file names, each of which is contained in the directory \"files\". A few files are missing because a cat walked over the keyboard during the file copy procedue. Which files are missing?\n",
    "\n",
    "## Task 2\n",
    "Load the data from the files that are available so that the value inside each file can be quickly found from an integer file ID key. The values are floating point numbers. \n",
    "\n",
    "## Task 3 \n",
    "Produce a histogram of the data. Play around with the number of bins until it looks nice. Try some of the other options like normalisation. Label your axes!\n"
   ]
  },
  {
   "cell_type": "code",
   "execution_count": 2,
   "metadata": {},
   "outputs": [],
   "source": [
    "%matplotlib inline \n",
    "# Make sure this cell is run, and don't change it!"
   ]
  },
  {
   "cell_type": "markdown",
   "metadata": {},
   "source": [
    "# Task 1"
   ]
  },
  {
   "cell_type": "code",
   "execution_count": 41,
   "metadata": {},
   "outputs": [
    {
     "name": "stdout",
     "output_type": "stream",
     "text": [
      "668995309.txt\n",
      "726620850.txt\n",
      "874130860.txt\n",
      "152834409.txt\n",
      "731535742.txt\n",
      "20185028.txt\n",
      "702558227.txt\n",
      "488835337.txt\n",
      "787721926.txt\n",
      "794831036.txt\n",
      "929429976.txt\n",
      "910843984.txt\n",
      "750640315.txt\n",
      "391717643.txt\n",
      "121144971.txt\n",
      "712687619.txt\n",
      "232134032.txt\n",
      "955350626.txt\n",
      "89157174.txt\n",
      "768915941.txt\n",
      "88788390.txt\n",
      "362797847.txt\n",
      "969425420.txt\n",
      "701733842.txt\n",
      "205450972.txt\n",
      "589155271.txt\n",
      "941279029.txt\n",
      "833679864.txt\n",
      "683557950.txt\n",
      "514920419.txt\n",
      "316627767.txt\n",
      "472555252.txt\n",
      "76130907.txt\n",
      "734066849.txt\n",
      "567861339.txt\n",
      "269627528.txt\n",
      "30865336.txt\n",
      "706115495.txt\n",
      "392202280.txt\n",
      "836172417.txt\n",
      "901366996.txt\n",
      "488987691.txt\n",
      "751797527.txt\n",
      "661981951.txt\n",
      "387183888.txt\n",
      "391958007.txt\n",
      "337770653.txt\n",
      "564918420.txt\n",
      "258397538.txt\n",
      "807459168.txt\n",
      "882429132.txt\n",
      "757115173.txt\n",
      "830140612.txt\n",
      "911458095.txt\n",
      "978020243.txt\n",
      "590007667.txt\n",
      "126874271.txt\n",
      "115643189.txt\n",
      "969628285.txt\n",
      "201239834.txt\n",
      "145923007.txt\n",
      "219242066.txt\n",
      "349457252.txt\n",
      "191959467.txt\n",
      "699270165.txt\n",
      "59196514.txt\n",
      "261088550.txt\n",
      "980424644.txt\n",
      "444892297.txt\n",
      "501159585.txt\n",
      "278329940.txt\n",
      "265961468.txt\n",
      "912132486.txt\n",
      "540781409.txt\n",
      "237264890.txt\n",
      "654164534.txt\n",
      "728653832.txt\n",
      "604059287.txt\n",
      "163442287.txt\n",
      "170454111.txt\n",
      "917460792.txt\n",
      "649155237.txt\n",
      "265700820.txt\n",
      "411101221.txt\n",
      "368895015.txt\n",
      "610418028.txt\n",
      "571306821.txt\n",
      "703974186.txt\n",
      "913006098.txt\n",
      "914551147.txt\n",
      "735615211.txt\n",
      "992103594.txt\n",
      "241950477.txt\n",
      "106557552.txt\n",
      "947047278.txt\n",
      "932586519.txt\n",
      "480036218.txt\n",
      "210724438.txt\n",
      "316168757.txt\n",
      "251602070.txt\n",
      "\n"
     ]
    }
   ],
   "source": [
    "# You need to get a list of the files in the directory \"files\"\n",
    "# You then need to compare it against a list generated from the \"Files.txt\" file.\n",
    "# Every pair of students has a unique set of files!\n",
    "# You will need a library to list the files in the directory\n",
    "\n",
    "\n",
    "# Here, import a library to list the files:\n",
    "import os\n",
    "\n",
    "# Open the file containing the list of patients and read it into a list, one line at a time\n",
    "f = open(\"/Users/viveckkingsley/ManchesterBioinformaticsCourse_Student/Day1/Code/Files.txt\", \"r\")\n",
    "expectedFiles = f.read()\n",
    "print(expectedFiles)\n",
    "f.close()\n",
    "    \n",
    "# Start with an empty list\n",
    "\n",
    "# This is a handy way to make sure the file is closed when you're done with it.\n",
    "# For reference, the open command takes two arguments, a file name and an 'open mode' which may be 'r', 'w' or 'a' \n",
    "# Thise mean 'r'ead, 'w'rite and 'a'ppend\n",
    "with open(\"Files.txt\", 'r') as fileList:\n",
    "    # You fill in this bit\n",
    "\n",
    "    \n",
    "# Now you have a list of files read from the file, you just need to work out which ones are missing.\n",
    "# First of all, get a list of files in the directory (using a library function)\n",
    "\n",
    "actualFiles = (os.lis\n",
    "    # Simple function goes here!\n",
    "\n",
    "# Now you have two lists, you can compare them to find which files are not in the directory\n",
    "\n"
   ]
  },
  {
   "cell_type": "markdown",
   "metadata": {},
   "source": [
    "# Task 2\n"
   ]
  },
  {
   "cell_type": "code",
   "execution_count": null,
   "metadata": {
    "collapsed": true
   },
   "outputs": [],
   "source": [
    "# Now you have your file list, you can loop over it to load them\n",
    "# Think about which data structure is appropriate to meet the goal of the task\n",
    "# Bonus: this can be done in a single line!\n",
    "\n",
    "# Hint: Remember that the file names are just strings, and strings have some methods you may be able to use...\n",
    "# Hint: Look at the code used to read files in the previous task - you could repurpose that...\n",
    "# Hint: Remember that you can change a string into an integer by calling int() on it (provided it is all numbers).\n",
    "\n",
    "\n",
    "# you will need a for loop to go over the actualFiles list\n",
    "for aFile #...\n",
    "    # Your code here!\n",
    "    \n",
    "\n",
    "\n",
    "\n"
   ]
  },
  {
   "cell_type": "markdown",
   "metadata": {},
   "source": [
    "# Task 3"
   ]
  },
  {
   "cell_type": "code",
   "execution_count": null,
   "metadata": {
    "collapsed": true
   },
   "outputs": [],
   "source": [
    "# You will need to import a library to produce the histogram.\n",
    "# Check the documentation to see which functions you need, and what arguments they take.\n",
    "\n",
    "# Import a library\n",
    "import libraryNameHere as plt # Should be obvious which one I mean!\n",
    "\n",
    "# Now create the histogram \n",
    "\n",
    "# There are loads of things to play with in plotting - have a go with some of them here (e.g. normalisation):\n",
    "\n",
    "# Label the axes!\n",
    "\n",
    "\n"
   ]
  }
 ],
 "metadata": {
  "kernelspec": {
   "display_name": "Python 3",
   "language": "python",
   "name": "python3"
  },
  "language_info": {
   "codemirror_mode": {
    "name": "ipython",
    "version": 3
   },
   "file_extension": ".py",
   "mimetype": "text/x-python",
   "name": "python",
   "nbconvert_exporter": "python",
   "pygments_lexer": "ipython3",
   "version": "3.9.1"
  }
 },
 "nbformat": 4,
 "nbformat_minor": 1
}
