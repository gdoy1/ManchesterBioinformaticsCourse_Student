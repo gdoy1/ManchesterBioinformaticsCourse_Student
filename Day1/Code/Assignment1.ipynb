{
 "cells": [
  {
   "cell_type": "markdown",
   "metadata": {},
   "source": [
    "# Basic Python: Assignment 1\n",
    "\n",
    "In this notebook, you have to fill in the missing code (or fix buggy code) to do some basic programming tasks. The idea is you should be able to finish these pretty quickly, and get an idea for how python and the notebook system works. When we do more complex stuff (i.e. tomorrow), we will move to using scripts rather than notebooks.\n",
    "\n",
    "## Task 1\n",
    "In this directory is a file called \"Files.txt\". It contains a list of file names, each of which is contained in the directory \"files\". A few files are missing because a cat walked over the keyboard during the file copy procedue. Which files are missing?\n",
    "\n",
    "## Task 2\n",
    "Load the data from the files that are available so that the value inside each file can be quickly found from an integer file ID key. The values are floating point numbers. \n",
    "\n",
    "## Task 3 \n",
    "Produce a histogram of the data. Play around with the number of bins until it looks nice. Try some of the other options like normalisation. Label your axes!\n"
   ]
  },
  {
   "cell_type": "code",
   "execution_count": 19,
   "metadata": {},
   "outputs": [],
   "source": [
    "%matplotlib inline"
   ]
  },
  {
   "cell_type": "markdown",
   "metadata": {},
   "source": [
    "# Task 1"
   ]
  },
  {
   "cell_type": "code",
   "execution_count": 20,
   "metadata": {
    "scrolled": true
   },
   "outputs": [
    {
     "name": "stdout",
     "output_type": "stream",
     "text": [
      "['589155271.txt', '219242066.txt', '728653832.txt']\n"
     ]
    }
   ],
   "source": [
    "# You need to get a list of the files in the directory \"files\"\n",
    "# You then need to compare it against a list generated from the \"Files.txt\" file.\n",
    "# Every pair of students has a unique set of files!\n",
    "# You will need a library to list the files in the directory\n",
    "\n",
    "\n",
    "# Here, import a library to list the files:\n",
    "import os\n",
    "\n",
    "# Open the file containing the list of patients and read it into a list, one line at a time\n",
    "\n",
    "expectedFiles = [] # Start with an empty list\n",
    "\n",
    "\n",
    "# This is a handy way to make sure the file is closed when you're done with it.\n",
    "# For reference, the open command takes two arguments, a file name and an 'open mode' which may be 'r', 'w' or 'a' \n",
    "# Thise mean 'r'ead, 'w'rite and 'a'ppend\n",
    "with open(\"Files.txt\", 'r') as fileList:\n",
    "    for file in fileList:\n",
    "        file = file.replace(\"\\n\", \"\")\n",
    "        expectedFiles.append(file)\n",
    "   \n",
    "    \n",
    "# Now you have a list of files read from the file, you just need to work out which ones are missing.\n",
    "# First of all, get a list of files in the directory (using a library function)\n",
    "#define the filepath\n",
    "path = \"/home/katherine/ManchesterBioinformaticsCourse_Student/Day1/Code/files\"\n",
    "\n",
    "#create a list of files in the directory\n",
    "files_in_directory = os.listdir(path)\n",
    "\n",
    "# Now you have two lists, you can compare them to find which files are not in the directory\n",
    "actualFiles = []\n",
    "for file in expectedFiles:\n",
    "    if file not in files_in_directory:\n",
    "        actualFiles.append(file)\n",
    "\n",
    "print(actualFiles) #is a list of files that are expected but are not in the directory."
   ]
  },
  {
   "cell_type": "markdown",
   "metadata": {},
   "source": [
    "# Task 2\n"
   ]
  },
  {
   "cell_type": "code",
   "execution_count": 21,
   "metadata": {},
   "outputs": [
    {
     "name": "stdout",
     "output_type": "stream",
     "text": [
      "{'25.1997139462': '121144971.txt', '64.7554079342': '237264890.txt', '43.3104195825': '911458095.txt', '61.134396506': '914551147.txt', '60.7232327439': '210724438.txt', '69.2750553312': '571306821.txt', '49.4844723678': '278329940.txt', '40.8664436282': '751797527.txt', '36.7643406283': '472555252.txt', '59.0645196839': '501159585.txt', '24.3318115788': '726620850.txt', '27.6702767678': '731535742.txt', '48.8831814885': '251602070.txt', '45.2015294307': '917460792.txt', '57.0014704401': '59196514.txt', '71.3512525749': '947047278.txt', '28.3379793257': '668995309.txt', '32.5461706745': '232134032.txt', '50.8702866096': '145923007.txt', '27.1028788862': '488835337.txt', '16.9761915852': '768915941.txt', '37.7237695149': '703974186.txt', '75.0581481774': '349457252.txt', '67.7604667945': '992103594.txt', '55.9465788867': '387183888.txt', '42.902862118': '540781409.txt', '70.3689465343': '201239834.txt', '46.6279591004': '654164534.txt', '28.5916466129': '205450972.txt', '55.2943248759': '411101221.txt', '38.4930257003': '265961468.txt', '55.5063887646': '912132486.txt', '34.3839793764': '702558227.txt', '74.6536161543': '126874271.txt', '58.803162795': '757115173.txt', '22.8422538233': '955350626.txt', '69.5866459986': '564918420.txt', '21.5879323504': '88788390.txt', '63.2621973942': '191959467.txt', '61.8842504389': '265700820.txt', '34.4360697956': '20185028.txt', '61.5779542159': '514920419.txt', '19.5608819928': '89157174.txt', '69.8908796113': '807459168.txt', '71.9358524019': '590007667.txt', '50.8181878205': '833679864.txt', '68.5558760719': '567861339.txt', '30.6838960801': '712687619.txt', '50.0867309065': '734066849.txt', '41.8264330558': '661981951.txt', '66.3235616542': '649155237.txt', '30.6226712508': '969425420.txt', '68.1203332791': '941279029.txt', '63.9408073916': '241950477.txt', '48.1356297994': '106557552.txt', '71.13091849': '604059287.txt', '59.7532683383': '610418028.txt', '62.6859414171': '969628285.txt', '56.0037045623': '901366996.txt', '30.954886697': '929429976.txt', '22.1781191367': '910843984.txt', '28.0079651812': '701733842.txt', '29.6563890857': '362797847.txt', '71.918068156': '368895015.txt', '73.1686043663': '683557950.txt', '50.1302110157': '836172417.txt', '69.7460405288': '76130907.txt', '62.7396583078': '980424644.txt', '31.1076391006': '750640315.txt', '70.7696087485': '163442287.txt', '31.6471655322': '391958007.txt', '54.7090177046': '258397538.txt', '54.4988554278': '261088550.txt', '40.4148121544': '488987691.txt', '50.9716979529': '337770653.txt', '47.8901156459': '932586519.txt', '69.688735276': '392202280.txt', '25.326173277': '787721926.txt', '48.6355750405': '699270165.txt', '64.0472558734': '316168757.txt', '52.9876007592': '882429132.txt', '68.9554978384': '444892297.txt', '63.1562885648': '316627767.txt', '59.1592916319': '706115495.txt', '25.5016312127': '391717643.txt', '60.7624862253': '735615211.txt', '28.31017361': '874130860.txt', '68.8054281772': '30865336.txt', '23.8026492126': '152834409.txt', '61.4667366216': '170454111.txt', '62.8071294277': '830140612.txt', '49.6873006267': '269627528.txt', '24.3493469211': '794831036.txt', '39.5469726747': '480036218.txt', '53.2486252813': '913006098.txt', '32.1855213236': '115643189.txt', '63.3999388608': '978020243.txt'}\n"
     ]
    }
   ],
   "source": [
    "# Now you have your file list, you can loop over it to load them\n",
    "# Think about which data structure is appropriate to meet the goal of the task\n",
    "# Bonus: this can be done in a single line!\n",
    "\n",
    "# Hint: Remember that the file names are just strings, and strings have some methods you may be able to use...\n",
    "# Hint: Look at the code used to read files in the previous task - you could repurpose that...\n",
    "# Hint: Remember that you can change a string into an integer by calling int() on it (provided it is all numbers).\n",
    "\n",
    "# you will need a for loop to go over the actualFiles list\n",
    "\n",
    "file_key_dict = {}\n",
    "\n",
    "path = \"/home/katherine/ManchesterBioinformaticsCourse_Student/Day1/Code/files\"\n",
    "files_in_directory = os.listdir(path)\n",
    "\n",
    "for file in files_in_directory:\n",
    "    f = open(path + '/' + file)\n",
    "    lines = f.readlines()\n",
    "    f.close()\n",
    "    for line in lines:\n",
    "        line = line.replace(\"\\n\", \"\")\n",
    "        file_key_dict[line] = file\n",
    "\n",
    "print(file_key_dict) #returns a dictionary with the contents of the file as a key and the file as a value.\n",
    "    \n",
    "\n",
    "\n",
    "\n"
   ]
  },
  {
   "cell_type": "markdown",
   "metadata": {},
   "source": [
    "# Task 3"
   ]
  },
  {
   "cell_type": "code",
   "execution_count": 29,
   "metadata": {
    "scrolled": true
   },
   "outputs": [
    {
     "data": {
      "text/plain": [
       "(array([7., 6., 7., 6., 6., 7., 6., 7., 6., 6., 7., 6., 7., 6., 7.]),\n",
       " array([ 0. ,  6.4, 12.8, 19.2, 25.6, 32. , 38.4, 44.8, 51.2, 57.6, 64. ,\n",
       "        70.4, 76.8, 83.2, 89.6, 96. ]),\n",
       " <BarContainer object of 15 artists>)"
      ]
     },
     "execution_count": 29,
     "metadata": {},
     "output_type": "execute_result"
    },
    {
     "data": {
      "image/png": "[encoded data removed]",
      "text/plain": [
       "<Figure size 432x288 with 1 Axes>"
      ]
     },
     "metadata": {
      "needs_background": "light"
     },
     "output_type": "display_data"
    }
   ],
   "source": [
    "# You will need to import a library to produce the histogram.\n",
    "# Check the documentation to see which functions you need, and what arguments they take.\n",
    "\n",
    "# Import a library\n",
    "import matplotlib as plt # Should be obvious which one I mean!\n",
    "\n",
    "file_ids = file_key_dict.keys()\n",
    "\n",
    "# Now create the histogram\n",
    "plt.pyplot.hist(file_ids, bins=15)\n",
    "\n",
    "# There are loads of things to play with in plotting - have a go with some of them here (e.g. normalisation):\n",
    "\n",
    "# Label the axes!\n",
    "\n",
    "\n"
   ]
  },
  {
   "cell_type": "code",
   "execution_count": null,
   "metadata": {},
   "outputs": [],
   "source": []
  }
 ],
 "metadata": {
  "kernelspec": {
   "display_name": "Python 3",
   "language": "python",
   "name": "python3"
  },
  "language_info": {
   "codemirror_mode": {
    "name": "ipython",
    "version": 3
   },
   "file_extension": ".py",
   "mimetype": "text/x-python",
   "name": "python",
   "nbconvert_exporter": "python",
   "pygments_lexer": "ipython3",
   "version": "3.7.9"
  }
 },
 "nbformat": 4,
 "nbformat_minor": 1
}
